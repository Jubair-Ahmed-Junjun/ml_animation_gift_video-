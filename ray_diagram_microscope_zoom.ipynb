{
  "nbformat": 4,
  "nbformat_minor": 0,
  "metadata": {
    "colab": {
      "provenance": []
    },
    "kernelspec": {
      "name": "python3",
      "display_name": "Python 3"
    },
    "language_info": {
      "name": "python"
    }
  },
  "cells": [
    {
      "cell_type": "code",
      "source": [
        "import numpy as np\n",
        "import matplotlib.pyplot as plt\n",
        "from matplotlib.animation import FuncAnimation\n",
        "import matplotlib.patches as patches\n",
        "import matplotlib.image as mpimg\n",
        "import os\n",
        "\n",
        "# Create figure\n",
        "fig, ax = plt.subplots(figsize=(8, 6))\n",
        "ax.set_xlim(0, 10)\n",
        "ax.set_ylim(0, 10)\n",
        "ax.axis('off')\n",
        "\n",
        "# Check if the cell image exists\n",
        "image_path = \"cell_image.jpg\"  # Ensure this file is available in your directory\n",
        "image_exists = os.path.exists(image_path)\n",
        "\n",
        "# Ray Diagram Animation: Light passing through a convex lens\n",
        "def ray_diagram(frame):\n",
        "    ax.clear()\n",
        "    ax.set_xlim(0, 10)\n",
        "    ax.set_ylim(0, 10)\n",
        "    ax.axis('off')\n",
        "\n",
        "    # Ray diagram parameters\n",
        "    focal_length = 3\n",
        "    object_position = 2\n",
        "\n",
        "    # Rays passing through the convex lens (representing an object)\n",
        "    rays = np.linspace(object_position, 5, 5)\n",
        "    for x in rays:\n",
        "        ax.plot([x, 5], [5, 5], color='blue', lw=1)  # Rays traveling from object to lens\n",
        "\n",
        "    # Lens representation (circle)\n",
        "    lens = patches.Circle((5, 5), radius=0.5, edgecolor='black', facecolor='none', lw=2)\n",
        "    ax.add_patch(lens)\n",
        "\n",
        "    # Focal points\n",
        "    ax.scatter([5 + focal_length, 5 - focal_length], [5, 5], color='red', zorder=5)\n",
        "    ax.text(5 + focal_length, 5.2, \"F\", ha='center', fontsize=12)\n",
        "    ax.text(5 - focal_length, 5.2, \"F\", ha='center', fontsize=12)\n",
        "\n",
        "    # Image formation: After passing through lens\n",
        "    if frame > 40:\n",
        "        image_position = (object_position * focal_length) / (object_position - focal_length)\n",
        "        ax.scatter(image_position, 5, color='green', s=100, zorder=5)\n",
        "        ax.text(image_position, 5.2, \"Image\", ha='center', fontsize=12)\n",
        "\n",
        "    ax.text(5, 4.5, \"Ray Diagram\", fontsize=12, ha='center')\n",
        "\n",
        "# Transition to Microscope and Zooming Effect\n",
        "def microscope_transition(frame):\n",
        "    ax.clear()\n",
        "    ax.set_xlim(0, 10)\n",
        "    ax.set_ylim(0, 10)\n",
        "    ax.axis('off')\n",
        "\n",
        "    # Draw the microscope (simple lens system)\n",
        "    ax.plot([2, 8], [6, 6], color='black', lw=2)  # Base of the microscope\n",
        "    ax.scatter([5], [6], color='blue', s=500, zorder=3)  # Objective lens\n",
        "\n",
        "    # Transition to cell image (zoom effect)\n",
        "    if frame > 80:\n",
        "        if image_exists:\n",
        "            ax.imshow(np.array(mpimg.imread(image_path)), extent=[2, 8, 0, 10])  # Show cell image\n",
        "            ax.text(5, 9, \"Zooming Into a Cell\", fontsize=12, ha='center')\n",
        "        else:\n",
        "            ax.text(5, 9, \"Cell Image Not Found\", fontsize=12, ha='center', color='red')\n",
        "    else:\n",
        "        ax.text(5, 9, \"Microscope Zooming In\", fontsize=12, ha='center')\n",
        "\n",
        "# Update function for the animation\n",
        "def update(frame):\n",
        "    if frame < 40:\n",
        "        ray_diagram(frame)\n",
        "    else:\n",
        "        microscope_transition(frame)\n",
        "\n",
        "# Create the animation with 120 frames\n",
        "ani = FuncAnimation(fig, update, frames=120, interval=100, repeat=False)\n",
        "\n",
        "# Save the animation to a file\n",
        "ani.save(\"ray_diagram_microscope_zoom.mp4\", writer=\"ffmpeg\", fps=30)\n",
        "\n",
        "# Show the animation\n",
        "plt.show()\n"
      ],
      "metadata": {
        "colab": {
          "base_uri": "https://localhost:8080/",
          "height": 499
        },
        "id": "7LloELIZjyMv",
        "outputId": "2f56d034-e6d8-4dcf-c24f-e4d8d70a20fc"
      },
      "execution_count": 4,
      "outputs": [
        {
          "output_type": "display_data",
          "data": {
            "text/plain": [
              "<Figure size 800x600 with 1 Axes>"
            ],
            "image/png": "[encoded data removed]"
          },
          "metadata": {}
        }
      ]
    }
  ]
}