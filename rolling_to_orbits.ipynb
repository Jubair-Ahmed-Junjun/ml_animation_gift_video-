{
  "nbformat": 4,
  "nbformat_minor": 0,
  "metadata": {
    "colab": {
      "provenance": [],
      "gpuType": "T4"
    },
    "kernelspec": {
      "name": "python3",
      "display_name": "Python 3"
    },
    "language_info": {
      "name": "python"
    },
    "accelerator": "GPU"
  },
  "cells": [
    {
      "cell_type": "code",
      "source": [
        "import numpy as np\n",
        "import matplotlib.pyplot as plt\n",
        "import matplotlib.animation as animation\n",
        "\n",
        "# Initialize figure\n",
        "fig, ax = plt.subplots(figsize=(8, 8))\n",
        "ax.set_xlim(-10, 10)\n",
        "ax.set_ylim(-10, 10)\n",
        "ax.set_aspect('equal')\n",
        "ax.axis('off')\n",
        "\n",
        "# Ball rolling down an inclined plane\n",
        "plane_line, = ax.plot([], [], lw=2, color='brown')\n",
        "ball, = ax.plot([], [], 'o', color='blue', markersize=10)\n",
        "\n",
        "# Celestial mechanics (planets and gravity simulation)\n",
        "planet1, = ax.plot([], [], 'o', color='orange', markersize=12, label=\"Planet\")\n",
        "planet2, = ax.plot([], [], 'o', color='green', markersize=8, label=\"Moon\")\n",
        "trail1, = ax.plot([], [], '-', color='orange', alpha=0.5)\n",
        "trail2, = ax.plot([], [], '-', color='green', alpha=0.5)\n",
        "\n",
        "# Satellite orbiting Earth\n",
        "earth, = ax.plot([], [], 'o', color='blue', markersize=20, label=\"Earth\")\n",
        "satellite, = ax.plot([], [], 'o', color='gray', markersize=5, label=\"Satellite\")\n",
        "satellite_trail, = ax.plot([], [], '-', color='gray', alpha=0.5)\n",
        "\n",
        "# Data for trails\n",
        "trail1_data = []\n",
        "trail2_data = []\n",
        "satellite_trail_data = []\n",
        "\n",
        "# Scene transitions\n",
        "total_frames = 300\n",
        "\n",
        "def update(frame):\n",
        "    global trail1_data, trail2_data, satellite_trail_data\n",
        "    ax.clear()\n",
        "    ax.set_xlim(-10, 10)\n",
        "    ax.set_ylim(-10, 10)\n",
        "    ax.axis('off')\n",
        "\n",
        "    if frame < 100:\n",
        "        # Scene 1: Ball rolling down inclined plane\n",
        "        incline_angle = np.radians(30)  # 30-degree incline\n",
        "        length = 8\n",
        "        plane_x = np.array([-length / 2, length / 2])\n",
        "        plane_y = np.array([length / 2 * np.tan(-incline_angle), length / 2 * np.tan(incline_angle)])\n",
        "        ax.plot(plane_x, plane_y, lw=2, color='brown')\n",
        "\n",
        "        # Ball rolling\n",
        "        ball_x = -length / 2 + frame / 100 * length\n",
        "        ball_y = np.tan(-incline_angle) * ball_x + length / 2 * np.tan(-incline_angle)\n",
        "        ax.plot(ball_x, ball_y, 'o', color='blue', markersize=10)\n",
        "\n",
        "    elif 100 <= frame < 200:\n",
        "        # Scene 2: Transition to celestial mechanics\n",
        "        ax.plot([], [], '-', color='black')  # Clear ball and plane\n",
        "        planet1_x = np.cos(frame * 0.02) * 5\n",
        "        planet1_y = np.sin(frame * 0.02) * 5\n",
        "        planet2_x = np.cos(frame * 0.04) * 2 + planet1_x\n",
        "        planet2_y = np.sin(frame * 0.04) * 2 + planet1_y\n",
        "\n",
        "        trail1_data.append([planet1_x, planet1_y])\n",
        "        trail2_data.append([planet2_x, planet2_y])\n",
        "\n",
        "        ax.plot(planet1_x, planet1_y, 'o', color='orange', markersize=12)\n",
        "        ax.plot(planet2_x, planet2_y, 'o', color='green', markersize=8)\n",
        "        if len(trail1_data) > 2:\n",
        "            ax.plot(*zip(*trail1_data), '-', color='orange', alpha=0.5)\n",
        "        if len(trail2_data) > 2:\n",
        "            ax.plot(*zip(*trail2_data), '-', color='green', alpha=0.5)\n",
        "\n",
        "    else:\n",
        "        # Scene 3: Satellites orbiting Earth\n",
        "        ax.plot([], [], '-', color='black')  # Clear celestial trails\n",
        "        earth_x, earth_y = 0, 0\n",
        "        satellite_x = 6 * np.cos(frame * 0.05)\n",
        "        satellite_y = 6 * np.sin(frame * 0.05)\n",
        "\n",
        "        satellite_trail_data.append([satellite_x, satellite_y])\n",
        "\n",
        "        ax.plot(earth_x, earth_y, 'o', color='blue', markersize=20)\n",
        "        ax.plot(satellite_x, satellite_y, 'o', color='gray', markersize=5)\n",
        "        if len(satellite_trail_data) > 2:\n",
        "            ax.plot(*zip(*satellite_trail_data), '-', color='gray', alpha=0.5)\n",
        "\n",
        "ani = animation.FuncAnimation(fig, update, frames=total_frames, interval=50)\n",
        "\n",
        "# Save as video\n",
        "ani.save(\"rolling_to_orbits.mp4\", writer='ffmpeg', fps=30)\n",
        "\n",
        "# Show the animation\n",
        "plt.show()\n"
      ],
      "metadata": {
        "colab": {
          "base_uri": "https://localhost:8080/",
          "height": 653
        },
        "id": "xeiY8pbbg4aD",
        "outputId": "f1321c5b-8c2b-4e04-b73f-f681c16bc274"
      },
      "execution_count": 1,
      "outputs": [
        {
          "output_type": "display_data",
          "data": {
            "text/plain": [
              "<Figure size 800x800 with 1 Axes>"
            ],
            "image/png": "[encoded data removed]"
          },
          "metadata": {}
        }
      ]
    }
  ]
}