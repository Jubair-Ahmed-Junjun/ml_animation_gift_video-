{
  "nbformat": 4,
  "nbformat_minor": 0,
  "metadata": {
    "colab": {
      "provenance": []
    },
    "kernelspec": {
      "name": "python3",
      "display_name": "Python 3"
    },
    "language_info": {
      "name": "python"
    }
  },
  "cells": [
    {
      "cell_type": "code",
      "source": [
        "pip install matplotlib pillow\n"
      ],
      "metadata": {
        "colab": {
          "base_uri": "https://localhost:8080/"
        },
        "id": "lOF4Ii70kCQL",
        "outputId": "9381cac6-6671-484d-e915-8ea2808f28fb"
      },
      "execution_count": null,
      "outputs": [
        {
          "output_type": "stream",
          "name": "stdout",
          "text": [
            "Requirement already satisfied: matplotlib in /usr/local/lib/python3.10/dist-packages (3.8.0)\n",
            "Requirement already satisfied: pillow in /usr/local/lib/python3.10/dist-packages (10.4.0)\n",
            "Requirement already satisfied: contourpy>=1.0.1 in /usr/local/lib/python3.10/dist-packages (from matplotlib) (1.3.0)\n",
            "Requirement already satisfied: cycler>=0.10 in /usr/local/lib/python3.10/dist-packages (from matplotlib) (0.12.1)\n",
            "Requirement already satisfied: fonttools>=4.22.0 in /usr/local/lib/python3.10/dist-packages (from matplotlib) (4.54.1)\n",
            "Requirement already satisfied: kiwisolver>=1.0.1 in /usr/local/lib/python3.10/dist-packages (from matplotlib) (1.4.7)\n",
            "Requirement already satisfied: numpy<2,>=1.21 in /usr/local/lib/python3.10/dist-packages (from matplotlib) (1.26.4)\n",
            "Requirement already satisfied: packaging>=20.0 in /usr/local/lib/python3.10/dist-packages (from matplotlib) (24.1)\n",
            "Requirement already satisfied: pyparsing>=2.3.1 in /usr/local/lib/python3.10/dist-packages (from matplotlib) (3.2.0)\n",
            "Requirement already satisfied: python-dateutil>=2.7 in /usr/local/lib/python3.10/dist-packages (from matplotlib) (2.8.2)\n",
            "Requirement already satisfied: six>=1.5 in /usr/local/lib/python3.10/dist-packages (from python-dateutil>=2.7->matplotlib) (1.16.0)\n"
          ]
        }
      ]
    },
    {
      "cell_type": "code",
      "source": [
        "import matplotlib.pyplot as plt\n",
        "import matplotlib.animation as animation\n",
        "import numpy as np\n",
        "\n",
        "# Set up the figure and axis\n",
        "fig, ax = plt.subplots()\n",
        "ax.set_aspect('equal')\n",
        "ax.set_facecolor(\"black\")  # Background color to simulate space\n",
        "plt.axis('off')  # Hide axes for a clearer view of the orbits\n",
        "ax.set_xlim(-450, 450)\n",
        "ax.set_ylim(-450, 450)\n",
        "\n",
        "# Draw the Sun\n",
        "sun = plt.Circle((0, 0), 8, color='yellow')\n",
        "ax.add_patch(sun)\n",
        "\n",
        "# Orbital radii for each planet (scaled for visualization)\n",
        "radius_mercury = 70\n",
        "radius_venus = 120\n",
        "radius_earth = 180\n",
        "radius_mars = 240\n",
        "radius_jupiter = 300\n",
        "radius_saturn = 380\n",
        "\n",
        "# Orbital speeds (Mercury fastest, Saturn slowest)\n",
        "speed_mercury = 0.04\n",
        "speed_venus = 0.025\n",
        "speed_earth = 0.02\n",
        "speed_mars = 0.015\n",
        "speed_jupiter = 0.008\n",
        "speed_saturn = 0.005\n",
        "\n",
        "# Length of the trail for each planet's orbit\n",
        "trail_length = 50\n",
        "\n",
        "# Initialize the trails for each planet\n",
        "mercury_trail, = ax.plot([], [], 'gray', lw=1, alpha=0.5)\n",
        "venus_trail, = ax.plot([], [], 'goldenrod', lw=1, alpha=0.5)\n",
        "earth_trail, = ax.plot([], [], 'blue', lw=1, alpha=0.5)\n",
        "mars_trail, = ax.plot([], [], 'red', lw=1, alpha=0.5)\n",
        "jupiter_trail, = ax.plot([], [], 'orange', lw=1, alpha=0.5)\n",
        "saturn_trail, = ax.plot([], [], 'khaki', lw=1, alpha=0.5)\n",
        "\n",
        "# Lists to store recent positions for trails\n",
        "mercury_positions, venus_positions, earth_positions = [], [], []\n",
        "mars_positions, jupiter_positions, saturn_positions = [], [], []\n",
        "\n",
        "# Create planets as Circle patches with appropriate sizes and colors\n",
        "mercury = plt.Circle((0, 0), 3, color='gray')\n",
        "venus = plt.Circle((0, 0), 4, color='goldenrod')\n",
        "earth = plt.Circle((0, 0), 5, color='blue')\n",
        "mars = plt.Circle((0, 0), 4, color='red')\n",
        "jupiter = plt.Circle((0, 0), 7, color='orange')\n",
        "saturn = plt.Circle((0, 0), 6, color='khaki')\n",
        "\n",
        "# Add planets to the axis\n",
        "ax.add_patch(mercury)\n",
        "ax.add_patch(venus)\n",
        "ax.add_patch(earth)\n",
        "ax.add_patch(mars)\n",
        "ax.add_patch(jupiter)\n",
        "ax.add_patch(saturn)\n",
        "\n",
        "# Add text labels for each planet and the Sun\n",
        "sun_label = ax.text(0, 0, 'Sun', color='yellow', ha='center', va='center', fontsize=10)\n",
        "mercury_label = ax.text(0, 0, 'Mercury', color='gray', ha='center', va='center', fontsize=8)\n",
        "venus_label = ax.text(0, 0, 'Venus', color='goldenrod', ha='center', va='center', fontsize=8)\n",
        "earth_label = ax.text(0, 0, 'Earth', color='blue', ha='center', va='center', fontsize=8)\n",
        "mars_label = ax.text(0, 0, 'Mars', color='red', ha='center', va='center', fontsize=8)\n",
        "jupiter_label = ax.text(0, 0, 'Jupiter', color='orange', ha='center', va='center', fontsize=8)\n",
        "saturn_label = ax.text(0, 0, 'Saturn', color='khaki', ha='center', va='center', fontsize=8)\n",
        "\n",
        "# Update function to animate the positions of planets, trails, and labels\n",
        "def update(frame):\n",
        "    # Calculate (x, y) positions for each planet using circular motion\n",
        "\n",
        "    # Mercury\n",
        "    x_mercury = radius_mercury * np.cos(speed_mercury * frame)\n",
        "    y_mercury = radius_mercury * np.sin(speed_mercury * frame)\n",
        "    mercury.set_center((x_mercury, y_mercury))\n",
        "    mercury_positions.append((x_mercury, y_mercury))\n",
        "    mercury_trail.set_data(*zip(*mercury_positions[-trail_length:]))\n",
        "    mercury_label.set_position((x_mercury, y_mercury))\n",
        "\n",
        "    # Venus\n",
        "    x_venus = radius_venus * np.cos(speed_venus * frame)\n",
        "    y_venus = radius_venus * np.sin(speed_venus * frame)\n",
        "    venus.set_center((x_venus, y_venus))\n",
        "    venus_positions.append((x_venus, y_venus))\n",
        "    venus_trail.set_data(*zip(*venus_positions[-trail_length:]))\n",
        "    venus_label.set_position((x_venus, y_venus))\n",
        "\n",
        "    # Earth\n",
        "    x_earth = radius_earth * np.cos(speed_earth * frame)\n",
        "    y_earth = radius_earth * np.sin(speed_earth * frame)\n",
        "    earth.set_center((x_earth, y_earth))\n",
        "    earth_positions.append((x_earth, y_earth))\n",
        "    earth_trail.set_data(*zip(*earth_positions[-trail_length:]))\n",
        "    earth_label.set_position((x_earth, y_earth))\n",
        "\n",
        "    # Mars\n",
        "    x_mars = radius_mars * np.cos(speed_mars * frame)\n",
        "    y_mars = radius_mars * np.sin(speed_mars * frame)\n",
        "    mars.set_center((x_mars, y_mars))\n",
        "    mars_positions.append((x_mars, y_mars))\n",
        "    mars_trail.set_data(*zip(*mars_positions[-trail_length:]))\n",
        "    mars_label.set_position((x_mars, y_mars))\n",
        "\n",
        "    # Jupiter\n",
        "    x_jupiter = radius_jupiter * np.cos(speed_jupiter * frame)\n",
        "    y_jupiter = radius_jupiter * np.sin(speed_jupiter * frame)\n",
        "    jupiter.set_center((x_jupiter, y_jupiter))\n",
        "    jupiter_positions.append((x_jupiter, y_jupiter))\n",
        "    jupiter_trail.set_data(*zip(*jupiter_positions[-trail_length:]))\n",
        "    jupiter_label.set_position((x_jupiter, y_jupiter))\n",
        "\n",
        "    # Saturn\n",
        "    x_saturn = radius_saturn * np.cos(speed_saturn * frame)\n",
        "    y_saturn = radius_saturn * np.sin(speed_saturn * frame)\n",
        "    saturn.set_center((x_saturn, y_saturn))\n",
        "    saturn_positions.append((x_saturn, y_saturn))\n",
        "    saturn_trail.set_data(*zip(*saturn_positions[-trail_length:]))\n",
        "    saturn_label.set_position((x_saturn, y_saturn))\n",
        "\n",
        "    return mercury, venus, earth, mars, jupiter, saturn, mercury_trail, venus_trail, earth_trail, mars_trail, jupiter_trail, saturn_trail, mercury_label, venus_label, earth_label, mars_label, jupiter_label, saturn_label\n",
        "\n",
        "# Run the animation and save as an MP4 video file\n",
        "ani = animation.FuncAnimation(fig, update, frames=300, interval=20, blit=True)\n",
        "\n",
        "# Save the animation as an MP4 video file\n",
        "ani.save(\"solar_system_orbit.mp4\", writer=\"ffmpeg\", fps=30)\n",
        "\n",
        "plt.show()\n"
      ],
      "metadata": {
        "id": "tSDNWsKNsosh",
        "outputId": "823e4a62-34e2-44aa-937a-1a4c9a321425",
        "colab": {
          "base_uri": "https://localhost:8080/",
          "height": 406
        }
      },
      "execution_count": 12,
      "outputs": [
        {
          "output_type": "display_data",
          "data": {
            "text/plain": [
              "<Figure size 640x480 with 1 Axes>"
            ],
            "image/png": "[encoded data removed]"
          },
          "metadata": {}
        }
      ]
    }
  ]
}