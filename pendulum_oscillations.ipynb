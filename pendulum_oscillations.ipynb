{
  "nbformat": 4,
  "nbformat_minor": 0,
  "metadata": {
    "colab": {
      "provenance": [],
      "gpuType": "T4"
    },
    "kernelspec": {
      "name": "python3",
      "display_name": "Python 3"
    },
    "language_info": {
      "name": "python"
    },
    "accelerator": "GPU"
  },
  "cells": [
    {
      "cell_type": "code",
      "source": [
        "import numpy as np\n",
        "import matplotlib.pyplot as plt\n",
        "from matplotlib.animation import FuncAnimation\n",
        "\n",
        "# Define constants\n",
        "g = 9.81  # Acceleration due to gravity (m/s^2)\n",
        "lengths = [1, 1.5, 2, 2.5]  # Lengths of the pendulum strings (in meters)\n",
        "amplitudes = [np.radians(20), np.radians(15), np.radians(10), np.radians(5)]  # Initial angles (radians)\n",
        "colors = ['red', 'blue', 'green', 'purple']  # Colors for different pendulums\n",
        "time = np.linspace(0, 10, 1000)  # Time array for simulation (10 seconds)\n",
        "\n",
        "# Calculate angular positions over time\n",
        "positions = []\n",
        "for i, L in enumerate(lengths):\n",
        "    T = 2 * np.pi * np.sqrt(L / g)  # Period of each pendulum\n",
        "    theta = amplitudes[i] * np.cos(2 * np.pi * time / T)  # Angular position as a function of time\n",
        "    positions.append(theta)\n",
        "\n",
        "# Setup figure and axes\n",
        "fig, ax = plt.subplots(figsize=(8, 6))\n",
        "ax.set_xlim(-3, 3)\n",
        "ax.set_ylim(-3, 0)\n",
        "ax.set_aspect('equal')\n",
        "ax.axis('off')  # No axes for a cleaner look\n",
        "\n",
        "# Create pendulum components\n",
        "lines = []\n",
        "bobs = []\n",
        "for color in colors:\n",
        "    line, = ax.plot([], [], lw=2, color=color)\n",
        "    bob, = ax.plot([], [], 'o', color=color, markersize=8)\n",
        "    lines.append(line)\n",
        "    bobs.append(bob)\n",
        "\n",
        "# Animation update function\n",
        "def update(frame):\n",
        "    for i, L in enumerate(lengths):\n",
        "        # X, Y position of pendulum bob\n",
        "        x = L * np.sin(positions[i][frame])\n",
        "        y = -L * np.cos(positions[i][frame])\n",
        "        lines[i].set_data([0, x], [0, y])  # Update line (string)\n",
        "        bobs[i].set_data(x, y)  # Update bob (mass)\n",
        "\n",
        "# Create animation\n",
        "ani = FuncAnimation(fig, update, frames=len(time), interval=20)\n",
        "\n",
        "# Save the animation\n",
        "ani.save(\"pendulum_oscillations_clean.mp4\", writer=\"ffmpeg\", fps=30)\n",
        "\n",
        "# Show the animation\n",
        "plt.show()\n"
      ],
      "metadata": {
        "colab": {
          "base_uri": "https://localhost:8080/",
          "height": 401
        },
        "id": "xeiY8pbbg4aD",
        "outputId": "9a40c1b0-eacf-478a-f7b0-f7a4871ad888"
      },
      "execution_count": 7,
      "outputs": [
        {
          "output_type": "stream",
          "name": "stderr",
          "text": [
            "<ipython-input-7-c3be388d4a5b>:42: MatplotlibDeprecationWarning: Setting data with a non sequence type is deprecated since 3.7 and will be remove two minor releases later\n",
            "  bobs[i].set_data(x, y)  # Update bob (mass)\n"
          ]
        },
        {
          "output_type": "display_data",
          "data": {
            "text/plain": [
              "<Figure size 800x600 with 1 Axes>"
            ],
            "image/png": "[encoded data removed]"
          },
          "metadata": {}
        }
      ]
    }
  ]
}